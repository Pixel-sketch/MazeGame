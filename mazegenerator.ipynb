{
 "cells": [
  {
   "cell_type": "code",
   "execution_count": 16,
   "id": "ecb3636a",
   "metadata": {},
   "outputs": [],
   "source": [
    "import random\n",
    "import csv"
   ]
  },
  {
   "cell_type": "code",
   "execution_count": 17,
   "id": "4ace4c01",
   "metadata": {},
   "outputs": [],
   "source": [
    "def generate_maze(rows, cols, density):\n",
    "    maze = [[0 if random.random() > density else 1 for _ in range(cols)] for _ in range(rows)]\n",
    "    return maze"
   ]
  },
  {
   "cell_type": "code",
   "execution_count": 18,
   "id": "6bebb4ae",
   "metadata": {},
   "outputs": [],
   "source": [
    "def save_maze_to_csv(maze, filename):\n",
    "    with open(filename, 'w', newline='') as csvfile:\n",
    "        maze_writer = csv.writer(csvfile)\n",
    "        maze_writer.writerows(maze)"
   ]
  },
  {
   "cell_type": "code",
   "execution_count": 19,
   "id": "87a2c858",
   "metadata": {},
   "outputs": [],
   "source": [
    "# Set maze dimensions\n",
    "rows = 50\n",
    "cols = 50"
   ]
  },
  {
   "cell_type": "code",
   "execution_count": 22,
   "id": "ddc8d77a",
   "metadata": {},
   "outputs": [],
   "source": [
    "# Set maze density (adjust as needed)\n",
    "density = 0.6  # Example: 30% of cells will be walls"
   ]
  },
  {
   "cell_type": "code",
   "execution_count": 23,
   "id": "980de359",
   "metadata": {},
   "outputs": [
    {
     "name": "stdout",
     "output_type": "stream",
     "text": [
      "Maze saved to E:\\DataScience\\Maze\\maze3.csv\n"
     ]
    }
   ],
   "source": [
    "# Generate maze\n",
    "maze = generate_maze(rows, cols, density)\n",
    "\n",
    "# Save maze to CSV file\n",
    "csv_filename = \"E:\\DataScience\\Maze\\maze3.csv\"\n",
    "save_maze_to_csv(maze, csv_filename)\n",
    "\n",
    "print(f\"Maze saved to {csv_filename}\")"
   ]
  },
  {
   "cell_type": "code",
   "execution_count": null,
   "id": "2a698bcd",
   "metadata": {},
   "outputs": [],
   "source": []
  },
  {
   "cell_type": "code",
   "execution_count": null,
   "id": "d11a5deb",
   "metadata": {},
   "outputs": [],
   "source": []
  }
 ],
 "metadata": {
  "kernelspec": {
   "display_name": "Python 3 (ipykernel)",
   "language": "python",
   "name": "python3"
  },
  "language_info": {
   "codemirror_mode": {
    "name": "ipython",
    "version": 3
   },
   "file_extension": ".py",
   "mimetype": "text/x-python",
   "name": "python",
   "nbconvert_exporter": "python",
   "pygments_lexer": "ipython3",
   "version": "3.11.4"
  }
 },
 "nbformat": 4,
 "nbformat_minor": 5
}
